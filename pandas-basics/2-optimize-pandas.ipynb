{
 "cells": [
  {
   "cell_type": "code",
   "execution_count": 2,
   "metadata": {},
   "outputs": [],
   "source": [
    "import os\n",
    "import re\n",
    "import sys\n",
    "import pandas as pd\n",
    "import numpy as np\n",
    "import seaborn as sns\n",
    "import matplotlib.pyplot as plt\n",
    "\n",
    "%matplotlib inline"
   ]
  },
  {
   "cell_type": "markdown",
   "metadata": {},
   "source": [
    "Import notes to increase pandas speed:\n",
    "\n",
    "1. Try to use vectorized operations where possible rather than approaching problems with the for x in df... mentality. If your code is home to a lot of for-loops, it might be better suited to working with native Python data structures, because Pandas otherwise comes with a lot of overhead.\n",
    "\n",
    "2. If you have more complex operations where vectorization is simply impossible or too difficult to work out efficiently, use the .apply() method.\n",
    "\n",
    "3. If you do have to loop over your array (which does happen), use .iterrows() or .itertuples() to improve speed and syntax.\n",
    "\n",
    "4. Pandas has a lot of optionality, and there are almost always several ways to get from A to B. Be mindful of this, compare how different routes perform, and choose the one that works best in the context of your project.\n",
    "\n",
    "5. Integrating NumPy into Pandas operations can often improve speed and simplify syntax."
   ]
  },
  {
   "cell_type": "markdown",
   "metadata": {},
   "source": [
    "## 1. Read data\n",
    "\n",
    "pandas can read data with different formats, but the speed of reading different formats varies significantly. Generally speaking, the speed of reading is ranked as follows:\n",
    " 1. pkl\n",
    " 2. csv\n",
    " 3. hdf\n",
    " 4. xlsx (VERY slow)\n",
    " \n",
    "Most of the data is collected as 'csv' files. Therefore, it's useful to read the 'csv' first and save it as 'pkl' or 'hdf'. Later when we read the data again, we can save a lot of time.\n",
    "\n",
    "```\n",
    "# read csv\n",
    "df = pd.read_csv('xxx.csv')\n",
    "\n",
    "# save as pkl\n",
    "df.to_pickle('xxx.pkl')\n",
    "df = pd.read_pickle('xxx.pkl')\n",
    " \n",
    " # save as hdf\n",
    "df.to_hdf('xxx.hdf','df')\n",
    "df = pd.read_hdf('xxx.pkl','df')\n",
    "```"
   ]
  },
  {
   "cell_type": "markdown",
   "metadata": {},
   "source": [
    "## 2. Aggregate data\n",
    "\n",
    "When aggregating the data using `agg` and `transform`, we can either use the built-in methods (`sum`, `mean`, et.) in pandas or use UDFs to perform the operations. However, use UDFs ony when you have to because the built-in methods are MUCH faster. See the [example](https://zhuanlan.zhihu.com/p/97012199)"
   ]
  },
  {
   "cell_type": "markdown",
   "metadata": {},
   "source": [
    "## 3. Use `numba`\n",
    "\n",
    "如果在你的数据处理过程涉及到了大量的数值计算，那么使用`numba`可以大大加快代码的运行效率。 首先需要安装numba模块, `pip install numba`。下面是一个应用实例：\n",
    "\n",
    "```\n",
    "import numba\n",
    "\n",
    "@numba.vectorize\n",
    "def f_with_numba(x): \n",
    "    return x * 2\n",
    "\n",
    "df[\"double_energy\"] = f_with_numba(df.energy_kwh.to_numpy())\n",
    "```\n",
    "\n",
    "__NOTE__: 运用numba加速, 需要以numpy数组的形式传入\n",
    "\n",
    "__NOTE__: when converting pandas dataframe and series to numpy, there are several ways: `values`, ~~`as_matrix`~~ (deprecated), `to_numpy()` and `array`. `to_numpy` and `array` are highly [recommended](https://stackoverflow.com/questions/13187778/convert-pandas-dataframe-to-numpy-array). \n",
    "\n",
    "- `to_numpy()`, which is defined on Index, Series, and DataFrame objects, and\n",
    "- `array`, which is defined on Index and Series objects only."
   ]
  },
  {
   "cell_type": "markdown",
   "metadata": {},
   "source": [
    "## 4. Loop v.s. Vector"
   ]
  },
  {
   "cell_type": "markdown",
   "metadata": {},
   "source": [
    "The goal of this example will be to apply time-of-use energy tariffs to find the total cost of energy consumption for one year. That is, at different hours of the day, the price for electricity varies, so the task is to multiply the electricity consumed for each hour by the correct price for the hour in which it was consumed. The rows contains the electricity used in each hour, so there are 365 x 24 = 8760 rows for the whole year. Each row indicates the usage for the “hour starting” at the time, so 1/1/13 0:00 indicates the usage for the first hour of January 1st."
   ]
  },
  {
   "cell_type": "code",
   "execution_count": 3,
   "metadata": {},
   "outputs": [
    {
     "data": {
      "text/html": [
       "<div>\n",
       "<style scoped>\n",
       "    .dataframe tbody tr th:only-of-type {\n",
       "        vertical-align: middle;\n",
       "    }\n",
       "\n",
       "    .dataframe tbody tr th {\n",
       "        vertical-align: top;\n",
       "    }\n",
       "\n",
       "    .dataframe thead th {\n",
       "        text-align: right;\n",
       "    }\n",
       "</style>\n",
       "<table border=\"1\" class=\"dataframe\">\n",
       "  <thead>\n",
       "    <tr style=\"text-align: right;\">\n",
       "      <th></th>\n",
       "      <th>date_time</th>\n",
       "      <th>energy_kwh</th>\n",
       "    </tr>\n",
       "  </thead>\n",
       "  <tbody>\n",
       "    <tr>\n",
       "      <th>0</th>\n",
       "      <td>1/1/13 0:00</td>\n",
       "      <td>0.586</td>\n",
       "    </tr>\n",
       "    <tr>\n",
       "      <th>1</th>\n",
       "      <td>1/1/13 1:00</td>\n",
       "      <td>0.580</td>\n",
       "    </tr>\n",
       "    <tr>\n",
       "      <th>2</th>\n",
       "      <td>1/1/13 2:00</td>\n",
       "      <td>0.572</td>\n",
       "    </tr>\n",
       "    <tr>\n",
       "      <th>3</th>\n",
       "      <td>1/1/13 3:00</td>\n",
       "      <td>0.596</td>\n",
       "    </tr>\n",
       "    <tr>\n",
       "      <th>4</th>\n",
       "      <td>1/1/13 4:00</td>\n",
       "      <td>0.592</td>\n",
       "    </tr>\n",
       "  </tbody>\n",
       "</table>\n",
       "</div>"
      ],
      "text/plain": [
       "     date_time  energy_kwh\n",
       "0  1/1/13 0:00       0.586\n",
       "1  1/1/13 1:00       0.580\n",
       "2  1/1/13 2:00       0.572\n",
       "3  1/1/13 3:00       0.596\n",
       "4  1/1/13 4:00       0.592"
      ]
     },
     "execution_count": 3,
     "metadata": {},
     "output_type": "execute_result"
    }
   ],
   "source": [
    "df = pd.read_csv('../data/demand_profile.csv')\n",
    "df.head()"
   ]
  },
  {
   "cell_type": "code",
   "execution_count": 4,
   "metadata": {},
   "outputs": [
    {
     "data": {
      "text/plain": [
       "date_time      object\n",
       "energy_kwh    float64\n",
       "dtype: object"
      ]
     },
     "execution_count": 4,
     "metadata": {},
     "output_type": "execute_result"
    }
   ],
   "source": [
    "df.dtypes"
   ]
  },
  {
   "cell_type": "code",
   "execution_count": 5,
   "metadata": {},
   "outputs": [],
   "source": [
    "# Convert the date_time to datetime dtype\n",
    "df['date_time'] = pd.to_datetime(df['date_time'], format = '%d/%m/%y %H:%M')\n",
    "# Always provide the format so that pandas doesn't need to infer the datetime format and thus saving a lot of time!!!"
   ]
  },
  {
   "cell_type": "code",
   "execution_count": 6,
   "metadata": {},
   "outputs": [
    {
     "data": {
      "text/plain": [
       "date_time     datetime64[ns]\n",
       "energy_kwh           float64\n",
       "dtype: object"
      ]
     },
     "execution_count": 6,
     "metadata": {},
     "output_type": "execute_result"
    }
   ],
   "source": [
    "df.dtypes"
   ]
  },
  {
   "cell_type": "markdown",
   "metadata": {},
   "source": [
    "Now that your dates and times are in a convenient format, you are ready to get down to the business of calculating your electricity costs. Remember that cost varies by hour, so you will need to conditionally apply a cost factor to each hour of the day. In this example, the time-of-use costs will be defined as follows:\n",
    "\n",
    "|Tariff Type\t|Cents per kWh\t|Time Range|\n",
    "|---|---|---|\n",
    "|Peak\t        |28\t            |17:00 to 24:00|\n",
    "|Shoulder\t    |20\t            |7:00 to 17:00\n",
    "|Off-Peak\t    |12\t            |0:00 to 7:00"
   ]
  },
  {
   "cell_type": "markdown",
   "metadata": {},
   "source": [
    "### Directly loop through the dataframe"
   ]
  },
  {
   "cell_type": "code",
   "execution_count": 11,
   "metadata": {},
   "outputs": [],
   "source": [
    "def apply_tariff(kwh, hour):\n",
    "    \"\"\"Calculates cost of electricity for given hour.\"\"\"    \n",
    "    if 0 <= hour < 7:\n",
    "        rate = 12\n",
    "    elif 7 <= hour < 17:\n",
    "        rate = 20\n",
    "    elif 17 <= hour < 24:\n",
    "        rate = 28\n",
    "    else:\n",
    "        raise ValueError(f'Invalid hour: {hour}')\n",
    "    return rate * kwh\n",
    "\n",
    "def apply_tariff_loop(df):\n",
    "    \"\"\"Calculate costs in loop.  Modifies `df` inplace.\"\"\"\n",
    "    energy_cost_list = []\n",
    "    for i in range(len(df)):\n",
    "        # Get electricity used and hour of day\n",
    "        energy_used = df.iloc[i]['energy_kwh']\n",
    "        hour = df.iloc[i]['date_time'].hour\n",
    "        energy_cost = apply_tariff(energy_used, hour)\n",
    "        energy_cost_list.append(energy_cost)\n",
    "    df['cost_cents'] = energy_cost_list\n",
    "    \n",
    "apply_tariff_loop(df)"
   ]
  },
  {
   "cell_type": "markdown",
   "metadata": {},
   "source": [
    "### Looping with .itertuples() and .iterrows()\n",
    "\n",
    "`.itertuples()` yields a namedtuple for each row, with the row’s index value as the first element of the tuple. A nametuple is a data structure from Python’s collections module that behaves like a Python tuple but has fields accessible by attribute lookup.\n",
    "\n",
    "`.iterrows()` yields pairs (tuples) of (index, Series) for each row in the DataFrame.\n",
    "\n",
    "While `.itertuples()` tends to be a bit faster, let’s stay in Pandas and use `.iterrows()` in this example, because some readers might not have run across nametuple."
   ]
  },
  {
   "cell_type": "code",
   "execution_count": null,
   "metadata": {},
   "outputs": [],
   "source": [
    "def apply_tariff_iterrows(df):\n",
    "    enery_cost_list = []\n",
    "    for index, row in df.iterrows():\n",
    "        energy_used = row['energy_kwh']\n",
    "        hour = row['date_time'].hour\n",
    "        energy_cost = apply_tariff(energy_used, hour)\n",
    "        energy_cost_list.append(energy_cost)\n",
    "    df['cost_cents'] = energy_cost_list\n",
    "\n",
    "apply_tariff_iterrows(df)"
   ]
  },
  {
   "cell_type": "markdown",
   "metadata": {},
   "source": [
    "### Use `.apply`\n",
    "\n",
    "The syntactic advantages of `.apply()` are clear, with a significant reduction in the number of lines and very readable, explicit code. In this case, the time taken was roughly half that of the `.iterrows()` method."
   ]
  },
  {
   "cell_type": "code",
   "execution_count": 12,
   "metadata": {},
   "outputs": [],
   "source": [
    "def apply_tariff_withapply(df):\n",
    "    df['cost_cents'] = df.apply(lambda row: apply_tariff(row['energy_kwh'], row['date_time'].hour), axis=1)\n",
    "    \n",
    "apply_tariff_withapply(df)"
   ]
  },
  {
   "cell_type": "markdown",
   "metadata": {},
   "source": [
    "### Selecting Data With `.isin()`\n",
    "\n",
    "If there were a single electricity price, you could apply that price across all the electricity consumption data in one line of code (`df['energy_kwh'] * 28`). This particular operation was an example of a vectorized operation, and it is the fastest way to do things in Pandas. We really want to speed up the calculation by vectorization.\n",
    "\n",
    "In this next example, you will see how to select rows with Pandas’ `.isin()` method and then apply the appropriate tariff in a vectorized operation. Before you do this, it will make things a little more convenient if you set the date_time column as the DataFrame’s index."
   ]
  },
  {
   "cell_type": "code",
   "execution_count": 8,
   "metadata": {},
   "outputs": [],
   "source": [
    "df.set_index('date_time', inplace=True)"
   ]
  },
  {
   "cell_type": "code",
   "execution_count": 9,
   "metadata": {},
   "outputs": [
    {
     "data": {
      "text/html": [
       "<div>\n",
       "<style scoped>\n",
       "    .dataframe tbody tr th:only-of-type {\n",
       "        vertical-align: middle;\n",
       "    }\n",
       "\n",
       "    .dataframe tbody tr th {\n",
       "        vertical-align: top;\n",
       "    }\n",
       "\n",
       "    .dataframe thead th {\n",
       "        text-align: right;\n",
       "    }\n",
       "</style>\n",
       "<table border=\"1\" class=\"dataframe\">\n",
       "  <thead>\n",
       "    <tr style=\"text-align: right;\">\n",
       "      <th></th>\n",
       "      <th>energy_kwh</th>\n",
       "    </tr>\n",
       "    <tr>\n",
       "      <th>date_time</th>\n",
       "      <th></th>\n",
       "    </tr>\n",
       "  </thead>\n",
       "  <tbody>\n",
       "    <tr>\n",
       "      <th>2013-01-01 00:00:00</th>\n",
       "      <td>0.586</td>\n",
       "    </tr>\n",
       "    <tr>\n",
       "      <th>2013-01-01 01:00:00</th>\n",
       "      <td>0.580</td>\n",
       "    </tr>\n",
       "  </tbody>\n",
       "</table>\n",
       "</div>"
      ],
      "text/plain": [
       "                     energy_kwh\n",
       "date_time                      \n",
       "2013-01-01 00:00:00       0.586\n",
       "2013-01-01 01:00:00       0.580"
      ]
     },
     "execution_count": 9,
     "metadata": {},
     "output_type": "execute_result"
    }
   ],
   "source": [
    "df.head(2)"
   ]
  },
  {
   "cell_type": "code",
   "execution_count": 16,
   "metadata": {},
   "outputs": [],
   "source": [
    "def apply_tariff_isin(df):\n",
    "    # Define hour range Boolean arrays\n",
    "    peak_hours = df.index.hour.isin(range(17, 24))\n",
    "    shoulder_hours = df.index.hour.isin(range(7, 17))\n",
    "    off_peak_hours = df.index.hour.isin(range(0, 7))\n",
    "\n",
    "    # Apply tariffs to hour ranges\n",
    "    df.loc[peak_hours, 'cost_cents'] = df.loc[peak_hours, 'energy_kwh'] * 28\n",
    "    df.loc[shoulder_hours,'cost_cents'] = df.loc[shoulder_hours, 'energy_kwh'] * 20\n",
    "    df.loc[off_peak_hours,'cost_cents'] = df.loc[off_peak_hours, 'energy_kwh'] * 12\n",
    "\n",
    "apply_tariff_isin(df)"
   ]
  },
  {
   "cell_type": "markdown",
   "metadata": {},
   "source": [
    "The `.isin()` method is returning an array of Boolean values that looks like this:\n",
    "```\n",
    "[False, False, False, ..., True, True, True]\n",
    "```\n",
    "\n",
    "When you pass these Boolean arrays to the DataFrame’s .loc indexer, you get a slice of the DataFrame that only includes rows that match those hours. After that, it is simply a matter of multiplying the slice by the appropriate tariff, which is a speedy vectorized operation."
   ]
  },
  {
   "cell_type": "markdown",
   "metadata": {},
   "source": [
    "### Create a array of price using `pd.cut()`\n",
    "\n",
    "`pd.cut()` discretize the column and assigns new values based on the bins."
   ]
  },
  {
   "cell_type": "code",
   "execution_count": 27,
   "metadata": {},
   "outputs": [
    {
     "name": "stdout",
     "output_type": "stream",
     "text": [
      "<class 'numpy.ndarray'>\n"
     ]
    }
   ],
   "source": [
    "def apply_tariff_cut(df):\n",
    "    cents_per_kwh = pd.cut(x=df.index.hour,\n",
    "                           bins=[0, 7, 17, 24],\n",
    "                           include_lowest=True,\n",
    "                           labels=[12, 20, 28]).astype(int)\n",
    "    print(type(cents_per_kwh))\n",
    "    df['cost_cents'] = cents_per_kwh * df['energy_kwh'].values\n",
    "    \n",
    "apply_tariff_cut(df)"
   ]
  },
  {
   "cell_type": "markdown",
   "metadata": {},
   "source": [
    "### Don't forget NumPy!"
   ]
  },
  {
   "cell_type": "code",
   "execution_count": 10,
   "metadata": {},
   "outputs": [],
   "source": [
    "def apply_tariff_digitize(df):\n",
    "    prices = np.array([12, 20, 28])\n",
    "    bins = np.digitize(df.index.hour.values, bins=[7, 17, 24])\n",
    "    df['cost_cents'] = prices[bins] * df['energy_kwh'].to_numpy()\n",
    "    \n",
    "apply_tariff_digitize(df)"
   ]
  },
  {
   "cell_type": "code",
   "execution_count": 25,
   "metadata": {},
   "outputs": [
    {
     "data": {
      "text/plain": [
       "array([12, 20, 28])"
      ]
     },
     "execution_count": 25,
     "metadata": {},
     "output_type": "execute_result"
    }
   ],
   "source": [
    "prices = np.array([12, 20, 28])\n",
    "prices"
   ]
  },
  {
   "cell_type": "code",
   "execution_count": 26,
   "metadata": {},
   "outputs": [
    {
     "data": {
      "text/plain": [
       "array([0, 0, 0, ..., 2, 2, 2], dtype=int64)"
      ]
     },
     "execution_count": 26,
     "metadata": {},
     "output_type": "execute_result"
    }
   ],
   "source": [
    "bins = np.digitize(df.index.hour.to_numpy(), bins=[7, 17, 24])\n",
    "bins"
   ]
  },
  {
   "cell_type": "code",
   "execution_count": null,
   "metadata": {},
   "outputs": [],
   "source": []
  },
  {
   "cell_type": "code",
   "execution_count": null,
   "metadata": {},
   "outputs": [],
   "source": []
  },
  {
   "cell_type": "code",
   "execution_count": null,
   "metadata": {},
   "outputs": [],
   "source": []
  }
 ],
 "metadata": {
  "kernelspec": {
   "display_name": "Python 3",
   "language": "python",
   "name": "python3"
  },
  "language_info": {
   "codemirror_mode": {
    "name": "ipython",
    "version": 3
   },
   "file_extension": ".py",
   "mimetype": "text/x-python",
   "name": "python",
   "nbconvert_exporter": "python",
   "pygments_lexer": "ipython3",
   "version": "3.7.6"
  }
 },
 "nbformat": 4,
 "nbformat_minor": 4
}
